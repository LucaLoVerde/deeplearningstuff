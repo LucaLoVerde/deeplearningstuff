{
 "cells": [
  {
   "cell_type": "markdown",
   "metadata": {
    "pycharm": {
     "name": "#%% md\n"
    }
   },
   "source": [
    "# pyTorch tutorials\n",
    "Taken from the official website."
   ]
  },
  {
   "cell_type": "code",
   "execution_count": 1,
   "metadata": {
    "pycharm": {
     "is_executing": false,
     "name": "#%%\n"
    }
   },
   "outputs": [],
   "source": [
    "import torch\n",
    "import torch.nn as nn\n",
    "import torch.nn.functional as F\n",
    "import torch.optim as optim\n",
    "import torchvision\n",
    "import torchvision.transforms as transforms\n",
    "import numpy as np\n",
    "import matplotlib.pyplot as plt"
   ]
  },
  {
   "cell_type": "markdown",
   "metadata": {
    "pycharm": {
     "name": "#%% md\n"
    }
   },
   "source": [
    "## Essentials\n",
    "### Creating empty tensors"
   ]
  },
  {
   "cell_type": "code",
   "execution_count": 2,
   "metadata": {
    "pycharm": {
     "is_executing": false,
     "name": "#%%\n"
    }
   },
   "outputs": [
    {
     "name": "stdout",
     "text": [
      "tensor([[1.1210e-44, 0.0000e+00, 0.0000e+00],\n",
      "        [0.0000e+00, 0.0000e+00, 0.0000e+00],\n",
      "        [0.0000e+00, 0.0000e+00, 0.0000e+00],\n",
      "        [0.0000e+00, 0.0000e+00, 0.0000e+00],\n",
      "        [0.0000e+00, 0.0000e+00, 0.0000e+00]])\n",
      "tensor([[0.1449, 0.1475, 0.0082],\n",
      "        [0.0981, 0.2574, 0.1044],\n",
      "        [0.0845, 0.1505, 0.6474],\n",
      "        [0.3983, 0.2397, 0.1269],\n",
      "        [0.6975, 0.1572, 0.7713]])\n",
      "tensor([[0., 0.],\n",
      "        [0., 0.],\n",
      "        [0., 0.],\n",
      "        [0., 0.],\n",
      "        [0., 0.],\n",
      "        [0., 0.],\n",
      "        [0., 0.],\n",
      "        [0., 0.],\n",
      "        [0., 0.],\n",
      "        [0., 0.]])\n"
     ],
     "output_type": "stream"
    }
   ],
   "source": [
    "vuoto1 = torch.empty(5, 3)  # creates a 5-by-3 empty tensor\n",
    "print(vuoto1)\n",
    "\n",
    "random1 = torch.rand(5, 3)  # creates a 5-by-3 random tensor\n",
    "print(random1)\n",
    "\n",
    "zeros1 = torch.zeros(10, 2)  # creates a 10-by-2 zeroed tensor\n",
    "print(zeros1)"
   ]
  },
  {
   "cell_type": "markdown",
   "metadata": {
    "pycharm": {
     "name": "#%% md\n"
    }
   },
   "source": [
    "### Constructing a tensor from data"
   ]
  },
  {
   "cell_type": "code",
   "execution_count": 3,
   "metadata": {
    "pycharm": {
     "is_executing": false,
     "name": "#%%\n"
    }
   },
   "outputs": [
    {
     "name": "stdout",
     "text": [
      "tensor([10.0000, 20.3000,  2.0000])\n",
      "tensor([10, 20,  2])\n",
      "tensor([10.0000, 20.3000,  2.0000], dtype=torch.float64)\n"
     ],
     "output_type": "stream"
    }
   ],
   "source": [
    "# To construct a tensor from data, we can do:\n",
    "from_data1 = torch.tensor([10, 20.3, 2])\n",
    "print(from_data1)\n",
    "\n",
    "# We can specify the type of data we want\n",
    "from_data2 = torch.tensor([10, 20.3, 2], dtype=torch.long)\n",
    "print(from_data2)\n",
    "\n",
    "from_data3 = torch.tensor([10, 20.3, 2], dtype=torch.double)\n",
    "print(from_data3)"
   ]
  },
  {
   "cell_type": "markdown",
   "metadata": {
    "pycharm": {
     "name": "#%% md\n"
    }
   },
   "source": [
    "### Converting other data types to tensors"
   ]
  },
  {
   "cell_type": "code",
   "execution_count": 4,
   "metadata": {
    "pycharm": {
     "is_executing": false,
     "name": "#%%\n"
    }
   },
   "outputs": [
    {
     "name": "stdout",
     "text": [
      "tensor([[ 5.7020e-66,  4.7642e-38],\n",
      "        [ 1.5192e-51, 3.4656e+179],\n",
      "        [5.0116e+217, 5.4942e-143],\n",
      "        [9.8006e+252, 1.0486e-142],\n",
      "        [2.1403e+161, 8.0083e+165],\n",
      "        [3.9706e+246,  1.1632e-28],\n",
      "        [6.4885e+169, 4.3966e+175],\n",
      "        [ 3.5440e-61, 6.0320e+174],\n",
      "        [3.9845e+252,  3.3103e-33],\n",
      "        [ 2.9999e-66,  4.0610e-86]], dtype=torch.float64)\n",
      "tensor([-0.5843,  0.9068,  1.8927])\n",
      "torch.Size([3])\n",
      "torch.Size([10, 2])\n"
     ],
     "output_type": "stream"
    }
   ],
   "source": [
    "# Or it is possible to \"convert\" and reuse other tensors as well\n",
    "from_data4 = from_data3.new_empty(10, 2)\n",
    "print(from_data4)\n",
    "from_data5 = torch.randn_like(from_data1, dtype=torch.float)\n",
    "print(from_data5)\n",
    "\n",
    "# To obtain tensor size:\n",
    "print(from_data5.size())\n",
    "print(from_data4.size())"
   ]
  },
  {
   "cell_type": "markdown",
   "metadata": {
    "pycharm": {
     "name": "#%% md\n"
    }
   },
   "source": [
    "## Operations on tensors"
   ]
  },
  {
   "cell_type": "code",
   "execution_count": 5,
   "metadata": {
    "pycharm": {
     "is_executing": false,
     "name": "#%%\n"
    }
   },
   "outputs": [
    {
     "name": "stdout",
     "text": [
      "tensor([[ 1.4182, -1.1041,  0.5735],\n",
      "        [-2.5707,  0.6771,  1.3981],\n",
      "        [ 1.3407, -0.5256,  0.3019],\n",
      "        [ 0.0432, -0.5630, -0.1236],\n",
      "        [ 1.7823,  2.8351,  1.3126]])\n",
      "tensor([[ 1.4182, -1.1041,  0.5735],\n",
      "        [-2.5707,  0.6771,  1.3981],\n",
      "        [ 1.3407, -0.5256,  0.3019],\n",
      "        [ 0.0432, -0.5630, -0.1236],\n",
      "        [ 1.7823,  2.8351,  1.3126]])\n",
      "tensor([[ 1.4182, -1.1041,  0.5735],\n",
      "        [-2.5707,  0.6771,  1.3981],\n",
      "        [ 1.3407, -0.5256,  0.3019],\n",
      "        [ 0.0432, -0.5630, -0.1236],\n",
      "        [ 1.7823,  2.8351,  1.3126]])\n",
      "tensor([0.1475, 0.2574, 0.1505, 0.2397, 0.1572])\n",
      "torch.Size([4, 4]) torch.Size([16]) torch.Size([2, 8])\n",
      "\n",
      "tensor([[[-0.2837,  2.2750],\n",
      "         [ 1.0101,  0.9639]],\n",
      "\n",
      "        [[-0.4132, -0.0180],\n",
      "         [-0.2878,  0.3946]],\n",
      "\n",
      "        [[ 0.9308, -0.6259],\n",
      "         [-1.1363, -1.8214]],\n",
      "\n",
      "        [[ 1.3800,  0.7590],\n",
      "         [-0.8801,  1.3607]]]) torch.Size([4, 2, 2])\n"
     ],
     "output_type": "stream"
    }
   ],
   "source": [
    "random2 = torch.randn_like(random1)\n",
    "print(random1 + random2)  # Sum of tensors\n",
    "print(torch.add(random1, random2))  # Another way, explicit method call\n",
    "risultato_somma = torch.empty_like(random1)  # Another way, involving pre-initializing the result storage tensor\n",
    "torch.add(random1, random2, out=risultato_somma)\n",
    "print(risultato_somma)\n",
    "random3 = torch.randn_like(random1)\n",
    "random3.add_(random2)  # In place addition, will add random2 to random3, and reassign the result\n",
    "\n",
    "# Tensors support all the NumPy-like indexing facilities:\n",
    "print(random1[:, 1])\n",
    "\n",
    "# Also to reshape, it's possible to use the torch.view() methods:\n",
    "x1 = torch.randn(4, 4)  # 4 by 4 random tensor, size == 16\n",
    "y1 = x1.view(16)  # now, the same elements are arranged as a 16 (by 1) tensor\n",
    "z1 = x1.view(-1, 8)  # ask to put 8 elements on the second dimension and to infer how many it needs to put in the first (-1)\n",
    "z2 = x1.view(-1, 2, 2)  # now let's ask to do a 3-D tensor with 2 elements on the second dimension and 2 elements on the third dimension, let's allow torch to infer how many elementds it should put on the remaining (1st) dimension\n",
    "print(x1.size(), y1.size(), z1.size())\n",
    "print()\n",
    "print(z2, z2.size())"
   ]
  },
  {
   "cell_type": "markdown",
   "metadata": {
    "pycharm": {
     "name": "#%% md\n"
    }
   },
   "source": [
    "The command ```torch.view()``` can be used to resize/reshape tensors (by selecting the desired elements) by asking it to \n",
    "rearrange the elements so that they fit in the requested size/dimensions."
   ]
  },
  {
   "cell_type": "code",
   "execution_count": 6,
   "metadata": {
    "pycharm": {
     "is_executing": false,
     "name": "#%%\n"
    }
   },
   "outputs": [
    {
     "name": "stdout",
     "text": [
      "tensor([-0.3983])\n",
      "-0.39826226234436035\n"
     ],
     "output_type": "stream"
    }
   ],
   "source": [
    "# For a singleton tensor, we can get the value as a normal number with:\n",
    "singleton1 = torch.randn(1)\n",
    "print(singleton1)\n",
    "print(singleton1.item())"
   ]
  },
  {
   "cell_type": "markdown",
   "metadata": {
    "pycharm": {
     "name": "#%% md\n"
    }
   },
   "source": [
    "We can use the ```torch.item()``` method to extract the actual element from the tensor, as seen above."
   ]
  },
  {
   "cell_type": "markdown",
   "metadata": {
    "pycharm": {
     "name": "#%% md\n"
    }
   },
   "source": [
    "## Numpy integration"
   ]
  },
  {
   "cell_type": "code",
   "execution_count": 7,
   "metadata": {
    "pycharm": {
     "is_executing": false,
     "name": "#%%\n"
    }
   },
   "outputs": [
    {
     "name": "stdout",
     "text": [
      "tensor([1., 1., 1., 1., 1., 1., 1., 1., 1., 1.])\n",
      "[1. 1. 1. 1. 1. 1. 1. 1. 1. 1.]\n",
      "tensor([2., 2., 2., 2., 2., 2., 2., 2., 2., 2.])\n",
      "[2. 2. 2. 2. 2. 2. 2. 2. 2. 2.]\n"
     ],
     "output_type": "stream"
    }
   ],
   "source": [
    "a1 = torch.ones(10)\n",
    "print(a1)\n",
    "a1_numpy = a1.numpy()  # To convert to a NumPy array\n",
    "print(a1_numpy)\n",
    "\n",
    "# Let's see what happens with:\n",
    "a1.add_(1)\n",
    "print(a1)\n",
    "print(a1_numpy)  # it carries the change from the tensor to the NumPy array"
   ]
  },
  {
   "cell_type": "markdown",
   "metadata": {},
   "source": [
    "Any operator which mutates directly the original variable (like in the example above) is post-fixed with a \"_\" symbol."
   ]
  },
  {
   "cell_type": "code",
   "execution_count": 8,
   "metadata": {
    "pycharm": {
     "is_executing": false,
     "name": "#%%\n"
    }
   },
   "outputs": [
    {
     "name": "stdout",
     "text": [
      "[2. 2. 2. 2. 2. 2. 2. 2. 2. 2.]\n",
      "tensor([2., 2., 2., 2., 2., 2., 2., 2., 2., 2.], dtype=torch.float64)\n"
     ],
     "output_type": "stream"
    }
   ],
   "source": [
    "# And the contrary is doable, too\n",
    "numpy_a1 = np.ones(10)\n",
    "from_numpy_a1 = torch.from_numpy(numpy_a1)\n",
    "np.add(numpy_a1, 1, out=numpy_a1)\n",
    "print(numpy_a1)\n",
    "print(from_numpy_a1)"
   ]
  },
  {
   "cell_type": "markdown",
   "metadata": {
    "pycharm": {
     "name": "#%% md\n"
    }
   },
   "source": [
    "## CUDA tensors\n",
    "To take advantage of a GPU with CUDA support, we should \"address\" the tensors to the correct device, like shown below. "
   ]
  },
  {
   "cell_type": "code",
   "execution_count": 9,
   "metadata": {
    "pycharm": {
     "is_executing": false,
     "name": "#%% \n"
    }
   },
   "outputs": [
    {
     "name": "stdout",
     "text": [
      "CUDA not available on this machine/setup\n"
     ],
     "output_type": "stream"
    }
   ],
   "source": [
    "# let us run this cell only if CUDA is available\n",
    "# We will use ``torch.device`` objects to move tensors in and out of GPU\n",
    "if torch.cuda.is_available():\n",
    "    device = torch.device(\"cuda\")          # a CUDA device object\n",
    "    y = torch.ones_like(x1, device=device)  # directly create a tensor on GPU\n",
    "    x1 = x1.to(device)                       # or just use strings ``.to(\"cuda\")``\n",
    "    z = x1 + y\n",
    "    print(z)\n",
    "    print(z.to(\"cpu\", torch.double))       # ``.to`` can also change dtype together!\n",
    "else:\n",
    "    print(\"CUDA not available on this machine/setup\")"
   ]
  },
  {
   "cell_type": "markdown",
   "metadata": {},
   "source": [
    "# Autograd: automatic differentiation\n",
    "By setting a tensor's attribute ```.required_grad``` as ```True```, the operations done on the tensor will be tracked \n",
    "automatically. To halt the tracking, we can call the ```.detach()``` method and future operations on the tensor will not\n",
    "be tracked. To temporarily perform untracked operations on a tensor that is being tracked, we can wrap the computations\n",
    "within a ```with torch.no_grad():``` block.\n",
    "Every tensor has a a reference to a function that has created the tensor, ```.grad_fn``` (except for user-made tensors, \n",
    "whose ```grad_fn``` is ```None```.\n",
    "All of this has to do with the fact that we are trying to find the optimal weights for several layers of neurons. In order\n",
    "to efficiently do this, **the cost function needs to be properly back-propagated from the output layer all the way to the\n",
    "input**. Automatic differentiation is an efficient algorithm to perform this task, and keeping track of every operation\n",
    "performed on our tensors is essential for it to work properly.\n",
    "Let's try this."
   ]
  },
  {
   "cell_type": "code",
   "execution_count": 10,
   "metadata": {
    "pycharm": {
     "is_executing": false,
     "name": "#%%\n"
    }
   },
   "outputs": [
    {
     "name": "stdout",
     "text": [
      "tensor([[1., 1.],\n",
      "        [1., 1.]], requires_grad=True)\n",
      "tensor([[3., 3.],\n",
      "        [3., 3.]], grad_fn=<AddBackward0>)\n",
      "<AddBackward0 object at 0x11f970c50>\n",
      "None\n",
      "tensor([[1., 1.],\n",
      "        [1., 1.]], requires_grad=True) tensor(27., grad_fn=<MeanBackward0>)\n"
     ],
     "output_type": "stream"
    }
   ],
   "source": [
    "x = torch.ones(2, 2, requires_grad=True)\n",
    "print(x)\n",
    "# Let's perform an operation on this tensor.\n",
    "y = x + 2\n",
    "print(y)\n",
    "# Given that the tensor y was created through an operation, it has a grad_fn attached.\n",
    "print(y.grad_fn)\n",
    "print(x.grad_fn)  # But a user-made tensor, on the other hand, has None as it's grad_fn\n",
    "z = y * y * 3\n",
    "out = z.mean()\n",
    "print(x, out)"
   ]
  },
  {
   "cell_type": "markdown",
   "source": [
    "# Neural Networks\n",
    "The ```nn``` module depends on ```autograd``` to define models and differentiate them. This module's purpose is to contain\n",
    "layers and a method ```forward(input)``` that returns the ```output```.\n",
    "Let's now define an example neural network (```convnet``` I think, used to classify handwritten digits?)."
   ],
   "metadata": {
    "collapsed": false,
    "pycharm": {
     "name": "#%% md\n"
    }
   }
  },
  {
   "cell_type": "code",
   "execution_count": 11,
   "outputs": [
    {
     "name": "stdout",
     "text": [
      "Net(\n",
      "  (conv1): Conv2d(1, 6, kernel_size=(3, 3), stride=(1, 1))\n",
      "  (conv2): Conv2d(6, 16, kernel_size=(3, 3), stride=(1, 1))\n",
      "  (fc1): Linear(in_features=576, out_features=120, bias=True)\n",
      "  (fc2): Linear(in_features=120, out_features=84, bias=True)\n",
      "  (fc3): Linear(in_features=84, out_features=10, bias=True)\n",
      ")\n"
     ],
     "output_type": "stream"
    }
   ],
   "source": [
    "class Net(nn.Module):\n",
    "    def __init__(self):\n",
    "        super(Net, self).__init__()\n",
    "        # This network takes 1 input image channel, has 6 output channels and a 3x3 square convolution kernel\n",
    "        self.conv1 = nn.Conv2d(1, 6, 3)\n",
    "        self.conv2 = nn.Conv2d(6, 16, 3)\n",
    "        self.fc1 = nn.Linear(16 * 6 * 6, 120)\n",
    "        self.fc2 = nn.Linear(120, 84)\n",
    "        self.fc3 = nn.Linear(84, 10)\n",
    "        # Don't have clues about this. Maybe it's just me?\n",
    "        \n",
    "    def forward(self, x):\n",
    "        # Max pooling over a (2, 2) window, they say\n",
    "        x = F.max_pool2d(F.relu(self.conv1(x)), (2, 2))\n",
    "        # If the size is a square we can only specify a single number\n",
    "        x = F.max_pool2d(F.relu(self.conv2(x)), 2)\n",
    "        x = x.view(-1, self.num_flat_features(x))\n",
    "        x = F.relu(self.fc1(x))\n",
    "        x = F.relu(self.fc2(x))\n",
    "        x = self.fc3(x)\n",
    "        return x\n",
    "    \n",
    "    def num_flat_features(self, x):\n",
    "        size = x.size()[1:]  # all dimensions except the batch dimension\n",
    "        num_features = 1\n",
    "        for s in size:\n",
    "            num_features *= s\n",
    "        return num_features\n",
    "    \n",
    "net = Net()\n",
    "print(net)"
   ],
   "metadata": {
    "collapsed": false,
    "pycharm": {
     "name": "#%%\n",
     "is_executing": false
    }
   }
  },
  {
   "cell_type": "markdown",
   "source": [
    "This defines the architecture of the net. We have to define the ```forward``` function, while the ```backward``` function will be \n",
    "automatically defined by ```autograd```.\n",
    "We can then obtain the list of learnable parameters using the following syntax:"
   ],
   "metadata": {
    "collapsed": false,
    "pycharm": {
     "name": "#%% md\n"
    }
   }
  },
  {
   "cell_type": "code",
   "execution_count": 12,
   "outputs": [
    {
     "name": "stdout",
     "text": [
      "10\n",
      "torch.Size([6, 1, 3, 3])\n"
     ],
     "output_type": "stream"
    }
   ],
   "source": [
    "params = list(net.parameters())\n",
    "print(len(params))\n",
    "print(params[0].size())"
   ],
   "metadata": {
    "collapsed": false,
    "pycharm": {
     "name": "#%%\n",
     "is_executing": false
    }
   }
  },
  {
   "cell_type": "markdown",
   "source": [
    "Now let's try a random 32x32 input. This net expects an input size of 32x32."
   ],
   "metadata": {
    "collapsed": false,
    "pycharm": {
     "name": "#%% md\n"
    }
   }
  },
  {
   "cell_type": "code",
   "execution_count": 13,
   "outputs": [
    {
     "name": "stdout",
     "text": [
      "tensor([[ 0.0819,  0.0214, -0.0185, -0.0544,  0.0939,  0.1009,  0.0674,  0.0460,\n",
      "         -0.0195,  0.0195]], grad_fn=<AddmmBackward>)\n"
     ],
     "output_type": "stream"
    }
   ],
   "source": [
    "my_input = torch.randn(1, 1, 32, 32)\n",
    "out = net(my_input)\n",
    "print(out)\n",
    "\n",
    "net.zero_grad()  # Let's zero the gradient buffers\n",
    "out.backward(torch.randn(1, 10))  # and reset the backprops randomly"
   ],
   "metadata": {
    "collapsed": false,
    "pycharm": {
     "name": "#%%\n",
     "is_executing": false
    }
   }
  },
  {
   "cell_type": "markdown",
   "source": [
    "## Recap\n",
    "* ```torch.Tensor``` is a multi-dimensional array supporting ```autograd``` operations like ```backwards()```; it also \n",
    "**holds the gradient** with regard to the tensor itself.\n",
    "* ```(torch.)nn.Module``` contains the neural network module, convenient way of encapsulating the parameters with various\n",
    "helpers.\n",
    "* ```(torch.)nn.Parameter``` is a kind of tensor automatically registered as a parameter when assigned as an attribute\n",
    "to a module.\n",
    "* ```autograd.Function``` implements ```forward``` and ```backward``` definitions of an autograd operation. Every tensor\n",
    "operation creates at least a single function node that connects to functions that created a tensor and encodes its history.\n",
    "operation creates at least a single function node that connects to functions that created a tensor and encodes its history.\n",
    "\n",
    "# Loss Function\n",
    "A loss function takes a (output, target) pair of inputs and computes a value that estimates how far away the output is\n",
    "from the target. The package ```nn``` contains several different loss functions: a simple loss is ```nn.MSELoss``` which\n",
    "computes the mean-squared error between the input and the target.\n",
    "Example:"
   ],
   "metadata": {
    "collapsed": false,
    "pycharm": {
     "name": "#%% md\n"
    }
   }
  },
  {
   "cell_type": "code",
   "execution_count": 14,
   "outputs": [
    {
     "name": "stdout",
     "text": [
      "tensor(0.6112, grad_fn=<MseLossBackward>)\n"
     ],
     "output_type": "stream"
    }
   ],
   "source": [
    "output = net(my_input)\n",
    "target = torch.randn(10)  # dummy target\n",
    "target = target.view(1, -1)  # make it the same shape as the output\n",
    "criterion = nn.MSELoss()\n",
    "\n",
    "loss = criterion(output, target)\n",
    "print(loss)"
   ],
   "metadata": {
    "collapsed": false,
    "pycharm": {
     "name": "#%%\n",
     "is_executing": false
    }
   }
  },
  {
   "cell_type": "markdown",
   "source": [
    "If we followed loss in the ```backward``` direction using its ```.grad_fn``` attribute, we will walk through a graph of \n",
    "all the computations from ```input``` to ```loss``` (the last being performed). Something similar to:\n",
    "\n",
    "```input -> conv2d -> relu -> maxpool2d -> conv2d -> relu -> maxpool2d\n",
    "      -> view -> linear -> relu -> linear -> relu -> linear\n",
    "      -> MSELoss\n",
    "      -> loss```"
   ],
   "metadata": {
    "collapsed": false,
    "pycharm": {
     "name": "#%% md\n"
    }
   }
  },
  {
   "cell_type": "markdown",
   "source": [
    "When calling ```loss.backward()```, the whole graph is differentiated with regard to the ```loss``` and all the tensors \n",
    "in the graph that have ```requires_grad=True``` will have their ```.grad``` tensor accumulated with the gradient. Let's\n",
    "try this:"
   ],
   "metadata": {
    "collapsed": false,
    "pycharm": {
     "name": "#%% md\n"
    }
   }
  },
  {
   "cell_type": "code",
   "execution_count": 15,
   "outputs": [
    {
     "name": "stdout",
     "text": [
      "<MseLossBackward object at 0x11f970ad0>\n",
      "<AddmmBackward object at 0x11f95f250>\n",
      "<AccumulateGrad object at 0x11f95f450>\n"
     ],
     "output_type": "stream"
    }
   ],
   "source": [
    "print(loss.grad_fn)  # this would be MSELoss\n",
    "print(loss.grad_fn.next_functions[0][0])  # this would be Linear\n",
    "print(loss.grad_fn.next_functions[0][0].next_functions[0][0])  # and this would be reLU"
   ],
   "metadata": {
    "collapsed": false,
    "pycharm": {
     "name": "#%%\n",
     "is_executing": false
    }
   }
  },
  {
   "cell_type": "markdown",
   "source": [
    "# Backprop\n",
    "In order to backpropagate the error, we just have to call ```loss.backwards()```."
   ],
   "metadata": {
    "collapsed": false,
    "pycharm": {
     "name": "#%% md\n"
    }
   }
  },
  {
   "cell_type": "code",
   "execution_count": 16,
   "outputs": [
    {
     "name": "stdout",
     "text": [
      "conv1.bias.grad before backward\n",
      "tensor([0., 0., 0., 0., 0., 0.])\n",
      "conv1.bias.grad after backward\n",
      "tensor([-0.0026, -0.0004,  0.0101, -0.0041,  0.0033,  0.0069])\n"
     ],
     "output_type": "stream"
    }
   ],
   "source": [
    "net.zero_grad()  # Let's zero all the gradients again\n",
    "\n",
    "print(\"conv1.bias.grad before backward\")\n",
    "print(net.conv1.bias.grad)\n",
    "\n",
    "loss.backward()\n",
    "\n",
    "print(\"conv1.bias.grad after backward\")\n",
    "print(net.conv1.bias.grad)"
   ],
   "metadata": {
    "collapsed": false,
    "pycharm": {
     "name": "#%%\n",
     "is_executing": false
    }
   }
  },
  {
   "cell_type": "markdown",
   "source": [
    "# Updating the weights\n",
    "Now that we have computed the loss function, we can deal with how to update the weights. The simplest update rule\n",
    "in practice is the **Stochastic Gradient Descent (SGD)**:\n",
    "```weight = weight - learning_rate * gradient```. Let's try this."
   ],
   "metadata": {
    "collapsed": false,
    "pycharm": {
     "name": "#%% md\n"
    }
   }
  },
  {
   "cell_type": "code",
   "execution_count": 17,
   "outputs": [],
   "source": [
    "learning_rate = 0.01\n",
    "for f in net.parameters():\n",
    "    f.data.sub_(f.grad.data * learning_rate)"
   ],
   "metadata": {
    "collapsed": false,
    "pycharm": {
     "name": "#%%\n",
     "is_executing": false
    }
   }
  },
  {
   "cell_type": "markdown",
   "source": [
    "This works, but several other update rules (such as SGD, Nesterov-SGD, Adam, RMSProp) are included in the ```torch.optim```\n",
    "package. Let's try."
   ],
   "metadata": {
    "collapsed": false,
    "pycharm": {
     "name": "#%% md\n"
    }
   }
  },
  {
   "cell_type": "code",
   "execution_count": 18,
   "outputs": [],
   "source": [
    "# Let's create an optimizer!\n",
    "optimizer = optim.SGD(net.parameters(), lr=0.01)\n",
    "\n",
    "# And then we would put the following in our training loop:\n",
    "optimizer.zero_grad()\n",
    "output = net(my_input)\n",
    "loss = criterion(output, target)\n",
    "loss.backward()\n",
    "optimizer.step()  # Actual update"
   ],
   "metadata": {
    "collapsed": false,
    "pycharm": {
     "name": "#%%\n",
     "is_executing": false
    }
   }
  },
  {
   "cell_type": "markdown",
   "source": [
    "# Training a classifier\n",
    "While data is data, and as such it can be manipulated with any suitable tool (i.e. Pillow, OpenCV for images, scipy and \n",
    "librosa for audio, raw Python, NLTK or SpaCy for text), a few helper packages are offered within torch, such as the\n",
    "**torchvision** package.\n",
    "\n",
    "In this tutorial we will use the ```CIFAR10``` dataset, containing 32x32 images in the following classes: airplane,\n",
    "automobile, bird, cat, deer, dog, frog, horse, ship, truck.\n",
    "The step of what is needed to do are:\n",
    "1. Load and normalize the CIFAR1- training and test datasets using ```torchvision```\n",
    "2. Define a **Convolutional Neural Network**\n",
    "3. Define a loss function\n",
    "4. Train the network on the training data\n",
    "5. Test the network on the test data\n",
    "\n",
    "## 1. Loading and normalizing CIFAR10"
   ],
   "metadata": {
    "collapsed": false,
    "pycharm": {
     "name": "#%% md\n"
    }
   }
  },
  {
   "cell_type": "code",
   "execution_count": 19,
   "outputs": [
    {
     "name": "stdout",
     "text": [
      "Files already downloaded and verified\n",
      "Files already downloaded and verified\n",
      " grog   cat horse  grog\n"
     ],
     "output_type": "stream"
    },
    {
     "data": {
      "text/plain": "<Figure size 432x288 with 1 Axes>",
      "image/png": "[encoded data removed]"
     },
     "metadata": {
      "needs_background": "light"
     },
     "output_type": "display_data"
    }
   ],
   "source": [
    "transform = transforms.Compose(\n",
    "    [transforms.ToTensor(),\n",
    "     transforms.Normalize((0.5, 0.5, 0.5), (0.5, 0.5, 0.5))]\n",
    ")\n",
    "\n",
    "trainset = torchvision.datasets.CIFAR10(root=\"./data\", train=True, download=True, transform=transform)\n",
    "trainloader = torch.utils.data.DataLoader(trainset, batch_size=4, shuffle=True, num_workers=2)\n",
    "testset = torchvision.datasets.CIFAR10(root=\"./data\", train=False, download=True, transform=transform)\n",
    "testloader = torch.utils.data.DataLoader(testset, batch_size=4, shuffle=False, num_workers=2)\n",
    "classes = (\"plane\", \"car\", \"bird\", \"cat\", \"deer\", \"dog\", \"grog\", \"horse\", \"ship\", \"truck\")\n",
    "\n",
    "# Let's see some of the images.\n",
    "def imshow(img):\n",
    "    img = img / 2 + 0.5  # Un-normalize (???)\n",
    "    npimg = img.numpy()\n",
    "    plt.imshow(np.transpose(npimg, (1, 2, 0)))\n",
    "    plt.show()\n",
    "    \n",
    "# Let's get some random training images\n",
    "dataiter = iter(trainloader)\n",
    "images, labels = dataiter.next()\n",
    "\n",
    "# show the images\n",
    "imshow(torchvision.utils.make_grid(images))\n",
    "# print labels\n",
    "print(\" \".join(\"%5s\" % classes[labels[j]] for j in range(4)))"
   ],
   "metadata": {
    "collapsed": false,
    "pycharm": {
     "name": "#%%\n",
     "is_executing": false
    }
   }
  },
  {
   "cell_type": "markdown",
   "source": [
    "## 2. Define a Convolutional Neural Network\n",
    "We will use the architecture presented above, modified to take the correct number of channels."
   ],
   "metadata": {
    "collapsed": false,
    "pycharm": {
     "name": "#%% md\n"
    }
   }
  },
  {
   "cell_type": "code",
   "execution_count": 20,
   "outputs": [],
   "source": [
    "class Net(nn.Module):\n",
    "    def __init__(self):\n",
    "        super(Net, self).__init__()\n",
    "        self.conv1 = nn.Conv2d(3, 6, 5)\n",
    "        self.pool = nn.MaxPool2d(2, 2)\n",
    "        self.conv2 = nn.Conv2d(6, 16, 5)\n",
    "        self.fc1 = nn.Linear(16 * 5 * 5, 120)\n",
    "        self.fc2 = nn.Linear(120, 84)\n",
    "        self.fc3 = nn.Linear(84, 10)\n",
    "        \n",
    "    def forward(self, x):\n",
    "        x = self.pool(F.relu(self.conv1(x)))\n",
    "        x = self.pool(F.relu(self.conv2(x)))\n",
    "        x = x.view(-1, 16 * 5 * 5)\n",
    "        x = F.relu(self.fc1(x))\n",
    "        x = F.relu(self.fc2(x))\n",
    "        x = self.fc3(x)\n",
    "        return x\n",
    "    \n",
    "net = Net()"
   ],
   "metadata": {
    "collapsed": false,
    "pycharm": {
     "name": "#%%\n",
     "is_executing": false
    }
   }
  },
  {
   "cell_type": "markdown",
   "source": [
    "## 3. Define a Loss function and optimizer\n",
    "For this example, we will be using a Classification Cross-Entropy loss and SGD with momentum."
   ],
   "metadata": {
    "collapsed": false,
    "pycharm": {
     "name": "#%% md\n"
    }
   }
  },
  {
   "cell_type": "code",
   "execution_count": 21,
   "outputs": [],
   "source": [
    "criterion = nn.CrossEntropyLoss()\n",
    "optimizer = optim.SGD(net.parameters(), lr=0.001, momentum=0.9)"
   ],
   "metadata": {
    "collapsed": false,
    "pycharm": {
     "name": "#%%\n",
     "is_executing": false
    }
   }
  },
  {
   "cell_type": "markdown",
   "source": [
    "## 4. Train the network\n",
    "We will now loop over our data iterator and feed the inputs to the network, and optimize."
   ],
   "metadata": {
    "collapsed": false,
    "pycharm": {
     "name": "#%% md\n"
    }
   }
  },
  {
   "cell_type": "code",
   "execution_count": 22,
   "outputs": [
    {
     "name": "stdout",
     "text": [
      "[1,  2000] loss: 2.273\n",
      "[1,  4000] loss: 1.905\n",
      "[1,  6000] loss: 1.661\n",
      "[1,  8000] loss: 1.558\n",
      "[1, 10000] loss: 1.519\n",
      "[1, 12000] loss: 1.475\n",
      "[2,  2000] loss: 1.399\n",
      "[2,  4000] loss: 1.354\n",
      "[2,  6000] loss: 1.304\n",
      "[2,  8000] loss: 1.312\n",
      "[2, 10000] loss: 1.283\n",
      "[2, 12000] loss: 1.268\n",
      "Finished training.\n"
     ],
     "output_type": "stream"
    }
   ],
   "source": [
    "for epoch in range(2):  # iterate over the dataset multiple times\n",
    "    running_loss = 0.0\n",
    "    for i, data in enumerate(trainloader, 0):\n",
    "        # Get the inputs; data is a list of [inputs, labels]\n",
    "        inputs, labels = data\n",
    "        # zero the parameter gradients\n",
    "        optimizer.zero_grad()\n",
    "        # forward + backward + optimize\n",
    "        outputs = net(inputs)\n",
    "        loss = criterion(outputs, labels)\n",
    "        loss.backward()\n",
    "        optimizer.step()\n",
    "        # print statistics\n",
    "        running_loss += loss.item()\n",
    "        if i % 2000 == 1999:  # print every 2000 mini-batches (what are these anyways??)\n",
    "            print('[%d, %5d] loss: %.3f' % (epoch + 1, i + 1, running_loss / 2000))\n",
    "            running_loss = 0.0\n",
    "print('Finished training.')"
   ],
   "metadata": {
    "collapsed": false,
    "pycharm": {
     "name": "#%%\n",
     "is_executing": false
    }
   }
  }
 ],
 "metadata": {
  "kernelspec": {
   "display_name": "Python 3",
   "language": "python",
   "name": "python3"
  },
  "language_info": {
   "codemirror_mode": {
    "name": "ipython",
    "version": 3
   },
   "file_extension": ".py",
   "mimetype": "text/x-python",
   "name": "python",
   "nbconvert_exporter": "python",
   "pygments_lexer": "ipython3",
   "version": "3.7.5"
  },
  "pycharm": {
   "stem_cell": {
    "cell_type": "raw",
    "source": [],
    "metadata": {
     "collapsed": false
    }
   }
  }
 },
 "nbformat": 4,
 "nbformat_minor": 1
}