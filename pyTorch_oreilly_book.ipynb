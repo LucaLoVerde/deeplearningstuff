{
 "cells": [
  {
   "cell_type": "markdown",
   "metadata": {
    "collapsed": true,
    "pycharm": {
     "name": "#%% md\n"
    }
   },
   "source": [
    "# Programming PyTorch for Deep Learning\n",
    "### Ian Pointer (O'Reilly)\n",
    "### Notes and tests\n",
    "\n",
    "This books assumes a working CUDA installation. Let's hope for the best...\n",
    "\n",
    "## Chapter 1. Getting started with PyTorch\n",
    "### Tensors\n",
    "A tensor is both a container for numbers (like a vector or matrix) but also represents sets of rules defining transformations\n",
    "between tensors that produce new tensors. Tensors have ranks that represent their dimensional space. Tensors with PyTorch\n",
    "support fetching and changing elements using the standard Python indexing. "
   ]
  },
  {
   "cell_type": "code",
   "execution_count": 2,
   "outputs": [
    {
     "name": "stdout",
     "text": [
      "tensor([[1, 2, 3],\n",
      "        [4, 5, 6],\n",
      "        [7, 8, 9]])\n",
      "tensor(3)\n"
     ],
     "output_type": "stream"
    }
   ],
   "source": [
    "import torch, torchvision, numpy, pandas\n",
    "\n",
    "x = torch.tensor([[1, 2, 3], [4, 5, 6], [7, 8, 9]])\n",
    "print(x)\n",
    "print(x[0][-1])  # fetch the last element of the first dimension\n",
    "x[0][0] = 10  # change the value of the first element of the first dimension\n",
    "\n",
    "# There are multiple functions that can create tensors, like torch.zeros(), torch.ones(), torch.rand()"
   ],
   "metadata": {
    "collapsed": false,
    "pycharm": {
     "name": "#%% \n",
     "is_executing": false
    }
   }
  },
  {
   "cell_type": "markdown",
   "source": [
    "#### Tensor operations\n",
    "There are a lot.\n",
    "For instance, we can find the maximum value in a tensor like this:"
   ],
   "metadata": {
    "collapsed": false,
    "pycharm": {
     "name": "#%% md\n"
    }
   }
  },
  {
   "cell_type": "code",
   "execution_count": 9,
   "outputs": [
    {
     "name": "stdout",
     "text": [
      "tensor([[0.9442, 0.7211],\n",
      "        [0.1489, 0.1930]])\n",
      "tensor(0.9442) tensor(0) 0.9441968202590942\n",
      "tensor([0.9442, 0.7211])\n",
      "tensor(0)\n"
     ],
     "output_type": "stream"
    }
   ],
   "source": [
    "x = torch.rand(2, 2)\n",
    "print(x)\n",
    "print(x.max(), x.argmax(), x.max().item())"
   ],
   "metadata": {
    "collapsed": false,
    "pycharm": {
     "name": "#%%\n",
     "is_executing": false
    }
   }
  },
  {
   "cell_type": "markdown",
   "source": [
    "There are multiple types of tensors, for instance ```LongTensors``` or ```FloatTensors```. We can convert back and forth \n",
    "using the ```.to()``` method."
   ],
   "metadata": {
    "collapsed": false,
    "pycharm": {
     "name": "#%% md\n"
    }
   }
  },
  {
   "cell_type": "code",
   "execution_count": 11,
   "outputs": [
    {
     "name": "stdout",
     "text": [
      "torch.LongTensor\n",
      "torch.FloatTensor\n"
     ],
     "output_type": "stream"
    }
   ],
   "source": [
    "long_tensor = torch.tensor([[0, 0, 1], [1, 1, 1], [0, 0, 0]])\n",
    "print(long_tensor.type())\n",
    "float_tensor = long_tensor.to(dtype=torch.float32)\n",
    "print(float_tensor.type())\n"
   ],
   "metadata": {
    "collapsed": false,
    "pycharm": {
     "name": "#%%\n",
     "is_executing": false
    }
   }
  }
 ],
 "metadata": {
  "kernelspec": {
   "display_name": "Python 3",
   "language": "python",
   "name": "python3"
  },
  "language_info": {
   "codemirror_mode": {
    "name": "ipython",
    "version": 2
   },
   "file_extension": ".py",
   "mimetype": "text/x-python",
   "name": "python",
   "nbconvert_exporter": "python",
   "pygments_lexer": "ipython2",
   "version": "2.7.6"
  },
  "pycharm": {
   "stem_cell": {
    "cell_type": "raw",
    "source": [],
    "metadata": {
     "collapsed": false
    }
   }
  }
 },
 "nbformat": 4,
 "nbformat_minor": 0
}